{
 "cells": [
  {
   "cell_type": "code",
   "execution_count": 1,
   "metadata": {},
   "outputs": [],
   "source": [
    "import numpy as np\n",
    "import matplotlib.pyplot as plt\n",
    "%matplotlib inline"
   ]
  },
  {
   "cell_type": "code",
   "execution_count": 2,
   "metadata": {},
   "outputs": [],
   "source": [
    "from sklearn.datasets import load_iris"
   ]
  },
  {
   "cell_type": "code",
   "execution_count": 3,
   "metadata": {},
   "outputs": [],
   "source": [
    "iris = load_iris()\n",
    "X = iris.data[:, :2]\n",
    "y = (iris.target != 0) * 1"
   ]
  },
  {
   "cell_type": "code",
   "execution_count": 4,
   "metadata": {},
   "outputs": [],
   "source": [
    "# first we load in the sigmoid function\n",
    "# z is equal to the dot product of X, our independent variables, and theta, our coefficients\n",
    "def sigmoid(z):\n",
    "    return (np.exp(z)) / (1 + np.exp(z))"
   ]
  },
  {
   "cell_type": "markdown",
   "metadata": {},
   "source": [
    "$$l l=\\sum_{i=1}^{N} y_{i} \\beta^{T} x_{i}-\\log \\left(1+e^{\\beta^{T} x_{i}}\\right)$$"
   ]
  },
  {
   "cell_type": "code",
   "execution_count": 5,
   "metadata": {},
   "outputs": [],
   "source": [
    "# now we want to write a function for our log likelihood function, as seen above"
   ]
  },
  {
   "cell_type": "code",
   "execution_count": 6,
   "metadata": {},
   "outputs": [],
   "source": [
    "def log_likelihood(independent_variables, dependant_variable, parameters):\n",
    "    score = np.dot(independent_variables, parameters)\n",
    "    logLikelihood = np.sum(dependant_variable*score - np.log(1+np.exp(score)))\n",
    "    return logLikelihood"
   ]
  },
  {
   "cell_type": "markdown",
   "metadata": {},
   "source": [
    "Taking the derivative of the log likelihood function will simply give us:\n",
    "\n",
    "$$\\nabla l l=X^{T}(Y-\\text {Predictions})$$\n",
    "\n",
    "Now lets create the function!"
   ]
  },
  {
   "cell_type": "code",
   "execution_count": 7,
   "metadata": {},
   "outputs": [],
   "source": [
    "def logistic_regression(independent_variables, dependant_variables, max_steps, learning_rate, min_error, add_intercept=True):\n",
    "    if add_intercept == True:\n",
    "        intercept = np.ones((independent_variables.shape[0], 1)) # create a vector of ones which will represent our intercept\n",
    "        independent_variables = np.hstack((intercept, independent_variables))\n",
    "        \n",
    "    parameters = np.zeros(independent_variables.shape[1]) #initiate our coefficients\n",
    "    for step in range(max_steps):\n",
    "        #The scores and prediction calculations are known as forward propagation\n",
    "        scores = np.dot(independent_variables, parameters)\n",
    "        predictions = sigmoid(scores)\n",
    "        \n",
    "        #To calculate the derivative of the log likelihood function we get (which is our second equation from above!)\n",
    "        derivative_ll = np.dot(independent_variables.T, dependant_variables - predictions)\n",
    "        \n",
    "        parameters += learning_rate*derivative_ll\n",
    "        if step % 10000 == 0:\n",
    "            print(log_likelihood(independent_variables, dependant_variables, parameters))\n",
    "        \n",
    "        # we stop the algorithm early once we stop learning much\n",
    "        if np.mean((learning_rate*derivative_ll)**2) < min_error:\n",
    "            break\n",
    "        \n",
    "    return parameters\n",
    "        "
   ]
  },
  {
   "cell_type": "code",
   "execution_count": 8,
   "metadata": {},
   "outputs": [
    {
     "name": "stdout",
     "output_type": "stream",
     "text": [
      "-103.58226560112641\n",
      "-38.48657379087793\n",
      "-25.698603905781567\n",
      "-20.121386648705258\n",
      "-16.965673462545208\n",
      "-14.917805763810975\n",
      "-13.472106597968981\n",
      "-12.39174213899274\n",
      "-11.550593195044588\n",
      "-10.875109369568849\n",
      "-10.319387799571247\n",
      "-9.8532335486099\n",
      "-9.455932443198735\n",
      "-9.11277806736115\n",
      "-8.813026626282623\n",
      "-8.548637220981393\n",
      "-8.313465953301016\n",
      "-8.102733417160271\n",
      "-7.912662862422499\n",
      "-7.740228257934197\n",
      "-7.582975064976589\n",
      "-7.438890282101474\n",
      "-7.306306596897681\n",
      "-7.183830602148151\n",
      "-7.0702882850934285\n",
      "-6.9646831095808714\n",
      "-6.866163409952962\n",
      "-6.7739967601463364\n",
      "-6.687549630178369\n",
      "-6.606271094673206\n",
      "-6.529679678232892\n",
      "-6.457352652002916\n",
      "-6.388917262383494\n",
      "-6.324043495140991\n",
      "-6.262438068910715\n",
      "-6.203839420069537\n",
      "-6.148013492370557\n",
      "-6.094750183951257\n",
      "-6.043860334487276\n",
      "-5.995173158640307\n",
      "-5.94853405019176\n",
      "-5.903802695595966\n",
      "-5.860851447029616\n",
      "-5.819563914042758\n",
      "-5.779833740143716\n",
      "-5.741563536468986\n",
      "-5.704663949396352\n",
      "-5.66905284278895\n",
      "-5.634654578686293\n",
      "-5.601399382827111\n",
      "-5.569222783505121\n",
      "-5.538065114015016\n"
     ]
    }
   ],
   "source": [
    "result = logistic_regression(X, y, 2000000000000, 0.00001, 0.00000000001)"
   ]
  },
  {
   "cell_type": "code",
   "execution_count": 9,
   "metadata": {},
   "outputs": [
    {
     "name": "stdout",
     "output_type": "stream",
     "text": [
      "Therefore the coefficient of our intercept is -2.549134 and the coefficients for our set of independent variables are: 5.505012 and -8.736687.\n"
     ]
    }
   ],
   "source": [
    "print(\"Therefore the coefficient of our intercept is {:f} and the coefficients for our set of independent variables are: {:f} and {:f}.\".format(result[0], result[1], result[2]))"
   ]
  },
  {
   "cell_type": "code",
   "execution_count": null,
   "metadata": {},
   "outputs": [],
   "source": []
  }
 ],
 "metadata": {
  "kernelspec": {
   "display_name": "Python 3",
   "language": "python",
   "name": "python3"
  },
  "language_info": {
   "codemirror_mode": {
    "name": "ipython",
    "version": 3
   },
   "file_extension": ".py",
   "mimetype": "text/x-python",
   "name": "python",
   "nbconvert_exporter": "python",
   "pygments_lexer": "ipython3",
   "version": "3.6.8"
  }
 },
 "nbformat": 4,
 "nbformat_minor": 2
}
